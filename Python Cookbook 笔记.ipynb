{
 "cells": [
  {
   "cell_type": "markdown",
   "metadata": {
    "toc": true
   },
   "source": [
    "<h1>Table of Contents<span class=\"tocSkip\"></span></h1>\n",
    "<div class=\"toc\"><ul class=\"toc-item\"><li><span><a href=\"#数据结构与算法\" data-toc-modified-id=\"数据结构与算法-1\"><span class=\"toc-item-num\">1&nbsp;&nbsp;</span>数据结构与算法</a></span><ul class=\"toc-item\"><li><span><a href=\"#利用*号解压n个元素\" data-toc-modified-id=\"利用*号解压n个元素-1.1\"><span class=\"toc-item-num\">1.1&nbsp;&nbsp;</span>利用*号解压n个元素</a></span></li><li><span><a href=\"#deque（双向列表）\" data-toc-modified-id=\"deque（双向列表）-1.2\"><span class=\"toc-item-num\">1.2&nbsp;&nbsp;</span>deque（双向列表）</a></span></li><li><span><a href=\"#heapq（堆）\" data-toc-modified-id=\"heapq（堆）-1.3\"><span class=\"toc-item-num\">1.3&nbsp;&nbsp;</span>heapq（堆）</a></span></li></ul></li><li><span><a href=\"#字符串和文本\" data-toc-modified-id=\"字符串和文本-2\"><span class=\"toc-item-num\">2&nbsp;&nbsp;</span>字符串和文本</a></span><ul class=\"toc-item\"><li><span><a href=\"#re.split()定义多个界定符\" data-toc-modified-id=\"re.split()定义多个界定符-2.1\"><span class=\"toc-item-num\">2.1&nbsp;&nbsp;</span>re.split()定义多个界定符</a></span></li></ul></li><li><span><a href=\"#数字、日期和时间\" data-toc-modified-id=\"数字、日期和时间-3\"><span class=\"toc-item-num\">3&nbsp;&nbsp;</span>数字、日期和时间</a></span></li><li><span><a href=\"#迭代器和生成器\" data-toc-modified-id=\"迭代器和生成器-4\"><span class=\"toc-item-num\">4&nbsp;&nbsp;</span>迭代器和生成器</a></span></li><li><span><a href=\"#文件和IO\" data-toc-modified-id=\"文件和IO-5\"><span class=\"toc-item-num\">5&nbsp;&nbsp;</span>文件和IO</a></span></li><li><span><a href=\"#数据编码与处理\" data-toc-modified-id=\"数据编码与处理-6\"><span class=\"toc-item-num\">6&nbsp;&nbsp;</span>数据编码与处理</a></span></li><li><span><a href=\"#函数\" data-toc-modified-id=\"函数-7\"><span class=\"toc-item-num\">7&nbsp;&nbsp;</span>函数</a></span></li><li><span><a href=\"#类与对象\" data-toc-modified-id=\"类与对象-8\"><span class=\"toc-item-num\">8&nbsp;&nbsp;</span>类与对象</a></span></li></ul></div>"
   ]
  },
  {
   "cell_type": "markdown",
   "metadata": {},
   "source": [
    "#### 数据结构与算法"
   ]
  },
  {
   "cell_type": "markdown",
   "metadata": {},
   "source": [
    "##### 利用*号解压n个元素"
   ]
  },
  {
   "cell_type": "code",
   "execution_count": 3,
   "metadata": {},
   "outputs": [
    {
     "data": {
      "text/plain": [
       "['773-555-1212', '847-555-1212']"
      ]
     },
     "execution_count": 3,
     "metadata": {},
     "output_type": "execute_result"
    }
   ],
   "source": [
    "record = ('Dave', 'dave@example.com', '773-555-1212', '847-555-1212')\n",
    "name, email, *phone_numbers = record\n",
    "phone_numbers    # 返回的是一个列表，这里如果没有元素也会返回一个空列表"
   ]
  },
  {
   "cell_type": "code",
   "execution_count": 4,
   "metadata": {},
   "outputs": [
    {
     "name": "stdout",
     "output_type": "stream",
     "text": [
      "/var/empty\n"
     ]
    }
   ],
   "source": [
    "line = 'nobody:*:-2:-2:Unprivileged User:/var/empty:/usr/bin/false'\n",
    "uname, *fields, homedir, sh = line.split(':')\n",
    "homedir"
   ]
  },
  {
   "cell_type": "code",
   "execution_count": 5,
   "metadata": {},
   "outputs": [
    {
     "data": {
      "text/plain": [
       "(2012, 'ACME')"
      ]
     },
     "execution_count": 5,
     "metadata": {},
     "output_type": "execute_result"
    }
   ],
   "source": [
    "record = ('ACME', 50, 123.45, (12, 18, 2012))\n",
    "name, *_, (*_, year) = record\n",
    "year, name"
   ]
  },
  {
   "cell_type": "markdown",
   "metadata": {},
   "source": [
    "##### deque（双向列表）"
   ]
  },
  {
   "cell_type": "markdown",
   "metadata": {},
   "source": [
    "`collections.deque([iterable[, maxlen]])`这个构造函数可以创建一个有最大长度的列表，可以双向插入或推出元素。"
   ]
  },
  {
   "cell_type": "code",
   "execution_count": 11,
   "metadata": {},
   "outputs": [
    {
     "data": {
      "text/plain": [
       "deque([2])"
      ]
     },
     "execution_count": 11,
     "metadata": {},
     "output_type": "execute_result"
    }
   ],
   "source": [
    "from collections import deque\n",
    "\n",
    "q = deque(maxlen=3)\n",
    "q.append(1)\n",
    "q.append(2)\n",
    "q.append(3)\n",
    "q                 # deque([1, 2, 3])\n",
    "q.append(4)       # deque([2, 3, 4])  \n",
    "q.appendleft(0)   # deque([0, 2, 3])  \n",
    "q.pop()           # deque([0, 2])\n",
    "q.popleft()       # deque([2]) "
   ]
  },
  {
   "cell_type": "code",
   "execution_count": 20,
   "metadata": {
    "collapsed": true
   },
   "outputs": [
    {
     "name": "stdout",
     "output_type": "stream",
     "text": [
      "　　臧与谷，二人相与牧羊而俱亡其羊。问臧奚事，则挟策读书；问谷奚事，则博塞以游。二人者，事业不同，其于亡羊均也。\n",
      "　　伯夷死名于首阳之下，盗跖死利于东陵之上。二人者，所死不同，其于残生伤性均也。奚必伯夷之是而盗跖之非乎？\n",
      "　　天下尽殉也：彼其所殉仁义也，则俗谓之君子；其所殉货财也，则俗谓之小人。其殉一也，则有君子焉，有小人焉。若其残生损性，则盗跖亦伯夷已，又恶取君子小人于其间哉！\n",
      "　　且夫属其性乎仁义者，虽通如曾、史，非吾所谓臧也；属其性于五味，虽通如俞儿，非吾所谓臧也；属其性乎五声，虽通如师旷，非吾所谓聪也；属其性乎五色，虽通如离朱，非吾所谓明也。吾所谓臧者，非所谓仁义之谓也，臧于其德而已矣；吾所谓臧者，非所谓仁义之谓也，任其性命之情而已矣；吾所谓聪者，非谓其闻彼也，自闻而已矣；吾所谓明者，非谓其见彼也，自见而已矣。夫不自见而见彼，不自得而得彼者，是得人之得而不自得其得者也，适人之适而不自适其适者也。夫适人之适而不自适其适，虽盗跖与伯夷，是同为淫僻也。余愧乎道德，是以上不敢为仁义之操，而下不敢为淫僻之行也。\n",
      "\n",
      " \n",
      "\n",
      "\n",
      "  \n",
      "\n",
      "\n",
      "\n",
      "\n",
      "\n",
      "\n",
      "\n",
      "\n",
      " \n",
      "《庄子·外篇·马蹄第九》 \n",
      "\n",
      "　　马，蹄可以践霜雪，毛可以御风寒。龁草饮水，翘足而陆，此马之真性也。虽有义台路寝，无所用之。及至伯乐，曰：\"我善治马。\"烧之，剔之，刻之，雒之。连之以羁絷，编之以皂栈，马之死者十二三矣！饥之渴之，驰之骤之，整之齐之，前有橛饰之患，而后有鞭囗筴之威，而马之死者已过半矣！陶者曰：\"我善治埴。\"圆者中规，方者中矩。匠人曰：\"我善治木。\"曲者中钩，直者应绳。夫埴木之性，岂欲中规矩钩绳哉！然且世世称之曰：\"伯乐善治马，而陶匠善治埴木。\"此亦治天下者之过也。 \n",
      "--------------------\n"
     ]
    }
   ],
   "source": [
    "#  这个示例理解地不好，需要再仔细看一下（2020-03-21）\n",
    "def search(lines, pattern, history=5):\n",
    "    previous_lines = deque(maxlen=history)\n",
    "    for li in lines:\n",
    "        if pattern in li:\n",
    "            yield li, previous_lines\n",
    "        previous_lines.append(li)\n",
    "\n",
    "\n",
    "if __name__ == '__main__':\n",
    "    with open(r'datasets\\庄子.txt', encoding='utf-8') as f:\n",
    "        for line, prevlines in search(f, '龁草饮水', 20):\n",
    "            for pline in prevlines:\n",
    "                print(pline, end='')\n",
    "            print(line, end='')\n",
    "            print('-' * 20)"
   ]
  },
  {
   "cell_type": "markdown",
   "metadata": {},
   "source": [
    "##### heapq（堆）"
   ]
  },
  {
   "cell_type": "code",
   "execution_count": 22,
   "metadata": {},
   "outputs": [
    {
     "name": "stdout",
     "output_type": "stream",
     "text": [
      "[42, 37, 23]\n",
      "[-4, 1, 2]\n"
     ]
    }
   ],
   "source": [
    "import heapq\n",
    "\n",
    "nums = [1, 8, 2, 23, 7, -4, 18, 23, 42, 37, 2]\n",
    "print(heapq.nlargest(3, nums))     # [42, 37, 23] \n",
    "print(heapq.nsmallest(3, nums))    # [-4, 1, 2]"
   ]
  },
  {
   "cell_type": "code",
   "execution_count": 28,
   "metadata": {},
   "outputs": [
    {
     "data": {
      "text/plain": [
       "-4"
      ]
     },
     "execution_count": 28,
     "metadata": {},
     "output_type": "execute_result"
    }
   ],
   "source": [
    "# 利用 heapify 将列表转为堆\n",
    "nums = [1, 8, 2, 23, 7, -4, 18, 23, 42, 37, 2]\n",
    "heapq.heapify(nums)\n",
    "heapq.heappop(nums)    # -4"
   ]
  },
  {
   "cell_type": "code",
   "execution_count": 32,
   "metadata": {},
   "outputs": [
    {
     "data": {
      "text/plain": [
       "[(-5, 1, Item('bar')),\n",
       " (-1, 0, Item('foo')),\n",
       " (-4, 2, Item('spam')),\n",
       " (-1, 3, Item('grok'))]"
      ]
     },
     "execution_count": 32,
     "metadata": {},
     "output_type": "execute_result"
    }
   ],
   "source": [
    "# 实现一个按照优先级排序的队列，\n",
    "# 利用heapq中heappush和heappop方法，实现对队列优先级进行设定的取出的操作\n",
    "\n",
    "class PriorityQueue:\n",
    "\n",
    "    def __init__(self):\n",
    "        self._queue = []\n",
    "        self._index = 0\n",
    "        \n",
    "    # 优先级为负数的目的是使得元素按照优先级从高到低排序\n",
    "    # 这个跟普通的按优先级从低到高排序的堆排序恰巧相反\n",
    "    def push(self, item, priority):\n",
    "        heapq.heappush(self._queue, (-priority, self._index, item))\n",
    "        self._index += 1\n",
    "\n",
    "    def pop(self):\n",
    "        return heapq.heappop(self._queue)[-1]\n",
    "\n",
    "\n",
    "class Item:\n",
    "    def __init__(self, name):\n",
    "        self.name = name\n",
    "\n",
    "    def __repr__(self):\n",
    "        return 'Item({!r})'.format(self.name)\n",
    "    \n",
    "q = PriorityQueue()\n",
    "q.push(Item('foo'), 1)\n",
    "q.push(Item('bar'), 5)\n",
    "q.push(Item('spam'), 4)\n",
    "q.push(Item('grok'), 1)\n",
    "q._queue"
   ]
  },
  {
   "cell_type": "code",
   "execution_count": 33,
   "metadata": {},
   "outputs": [
    {
     "data": {
      "text/plain": [
       "Item('bar')"
      ]
     },
     "execution_count": 33,
     "metadata": {},
     "output_type": "execute_result"
    }
   ],
   "source": [
    "q.pop()"
   ]
  },
  {
   "cell_type": "markdown",
   "metadata": {},
   "source": [
    "#### 字符串和文本"
   ]
  },
  {
   "cell_type": "markdown",
   "metadata": {},
   "source": [
    "##### re.split()定义多个界定符"
   ]
  },
  {
   "cell_type": "code",
   "execution_count": 34,
   "metadata": {},
   "outputs": [
    {
     "data": {
      "text/plain": [
       "['asdf', 'fjdk', 'afed', 'fjek', 'asdf', 'foo']"
      ]
     },
     "execution_count": 34,
     "metadata": {},
     "output_type": "execute_result"
    }
   ],
   "source": [
    "line = 'asdf fjdk; afed, fjek,asdf, foo'\n",
    "import re\n",
    "re.split(r'[;,\\s]\\s*', line)"
   ]
  },
  {
   "cell_type": "markdown",
   "metadata": {},
   "source": [
    "####  数字、日期和时间"
   ]
  },
  {
   "cell_type": "markdown",
   "metadata": {},
   "source": [
    "####  迭代器和生成器"
   ]
  },
  {
   "cell_type": "markdown",
   "metadata": {},
   "source": [
    "#### 文件和IO"
   ]
  },
  {
   "cell_type": "markdown",
   "metadata": {},
   "source": [
    "#### 数据编码与处理"
   ]
  },
  {
   "cell_type": "markdown",
   "metadata": {},
   "source": [
    "####  函数"
   ]
  },
  {
   "cell_type": "markdown",
   "metadata": {},
   "source": [
    "####  类与对象"
   ]
  },
  {
   "cell_type": "code",
   "execution_count": null,
   "metadata": {},
   "outputs": [],
   "source": []
  }
 ],
 "metadata": {
  "kernelspec": {
   "display_name": "Python 3",
   "language": "python",
   "name": "python3"
  },
  "language_info": {
   "codemirror_mode": {
    "name": "ipython",
    "version": 3
   },
   "file_extension": ".py",
   "mimetype": "text/x-python",
   "name": "python",
   "nbconvert_exporter": "python",
   "pygments_lexer": "ipython3",
   "version": "3.7.2"
  },
  "toc": {
   "base_numbering": 1,
   "nav_menu": {},
   "number_sections": true,
   "sideBar": true,
   "skip_h1_title": true,
   "title_cell": "Table of Contents",
   "title_sidebar": "Contents",
   "toc_cell": true,
   "toc_position": {},
   "toc_section_display": true,
   "toc_window_display": false
  }
 },
 "nbformat": 4,
 "nbformat_minor": 4
}
